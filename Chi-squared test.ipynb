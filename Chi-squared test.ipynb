{
 "cells": [
  {
   "cell_type": "markdown",
   "metadata": {},
   "source": [
    "## Chi-squared test или хи-квадрат"
   ]
  },
  {
   "cell_type": "markdown",
   "metadata": {},
   "source": [
    "Разберем хи-квадрат на примере классического АБ теста"
   ]
  },
  {
   "cell_type": "code",
   "execution_count": 46,
   "metadata": {},
   "outputs": [],
   "source": [
    "import numpy as np\n",
    "import pandas as pd\n",
    "from scipy import stats as st"
   ]
  },
  {
   "cell_type": "markdown",
   "metadata": {},
   "source": [
    "#### Гипотеза и данные\n",
    "\n",
    "Пусть мы тестируем конверсию в клик на двух разных страничках. На версию А и Б пришли по 1000 пользователей, но разное количество пользователей кликнуло."
   ]
  },
  {
   "cell_type": "markdown",
   "metadata": {},
   "source": [
    "H0: Конверсия A не отличается от конверсии B\n",
    "\n",
    "H1: Конверсия A отличается от конверсии B\n"
   ]
  },
  {
   "cell_type": "code",
   "execution_count": 3,
   "metadata": {},
   "outputs": [
    {
     "data": {
      "text/plain": [
       "array([[900, 100],\n",
       "       [930,  70]])"
      ]
     },
     "execution_count": 3,
     "metadata": {},
     "output_type": "execute_result"
    }
   ],
   "source": [
    "#Данные\n",
    "ab_data = np.array([[900, 100], [930, 70]])\n",
    "ab_data"
   ]
  },
  {
   "cell_type": "code",
   "execution_count": 4,
   "metadata": {},
   "outputs": [
    {
     "data": {
      "text/plain": [
       "array([[ 900,  100, 1000],\n",
       "       [ 930,   70, 1000],\n",
       "       [1830,  170, 2000]])"
      ]
     },
     "execution_count": 4,
     "metadata": {},
     "output_type": "execute_result"
    }
   ],
   "source": [
    "# Превратим эти данные в таблицу сопряженности. \n",
    "\n",
    "#Сначала добавим тоталы по строкам\n",
    "row_total = np.sum(ab_data, axis=1)\n",
    "row_total = row_total.reshape((len(row_total),1))\n",
    "contingency_table = np.append(ab_data, row_total, axis=1)\n",
    "\n",
    "# Теперь по столбцам\n",
    "column_total = np.sum(contingency_table, axis=0)\n",
    "contingency_table = np.append(contingency_table, [column_total], axis=0)\n",
    "\n",
    "contingency_table"
   ]
  },
  {
   "cell_type": "markdown",
   "metadata": {},
   "source": [
    "Чтобы проверить нулевую гипотезу нам нужны ожидаемые значения, где мы предполагаем, что между А и Б нет разницы"
   ]
  },
  {
   "cell_type": "code",
   "execution_count": 27,
   "metadata": {},
   "outputs": [
    {
     "data": {
      "text/plain": [
       "array([[915.,  85.],\n",
       "       [915.,  85.]])"
      ]
     },
     "execution_count": 27,
     "metadata": {},
     "output_type": "execute_result"
    }
   ],
   "source": [
    "expected_values = np.empty(shape=ab_data.shape)\n",
    "for i, row in enumerate(ab_data):\n",
    "    for j, column in enumerate(row):\n",
    "        expected_value = contingency_table[i,-1]/contingency_table[-1,-1] * contingency_table[-1,j]\n",
    "        expected_values[i, j] = expected_value\n",
    "expected_values"
   ]
  },
  {
   "cell_type": "markdown",
   "metadata": {},
   "source": [
    "#### Проверка условий для проведения теста"
   ]
  },
  {
   "cell_type": "markdown",
   "metadata": {},
   "source": [
    "1. Условие случайно выборки\n",
    "\n",
    "Мы проходим это условие, так как рандомно показывали пользователям страницу А или страницу Б.\n",
    "2. Ожидаемое значение > 5\n",
    "\n",
    "Здесь все хорошо. Ожидаемые значения в таблице expected_values больше пят\n",
    "3. Условие независимости (sampling with replacement или размер выборки меньше 10% от популяции)\n",
    "\n",
    "Тут тоже проходим. "
   ]
  },
  {
   "cell_type": "markdown",
   "metadata": {},
   "source": [
    "Теперь посчитаем нашу статистику"
   ]
  },
  {
   "cell_type": "code",
   "execution_count": 31,
   "metadata": {},
   "outputs": [
    {
     "data": {
      "text/plain": [
       "5.785920925747348"
      ]
     },
     "execution_count": 31,
     "metadata": {},
     "output_type": "execute_result"
    }
   ],
   "source": [
    "chi_squared_statistic = np.sum((ab_data - expected_values)**2 / expected_values)\n",
    "chi_squared_statistic"
   ]
  },
  {
   "cell_type": "code",
   "execution_count": 34,
   "metadata": {},
   "outputs": [
    {
     "data": {
      "text/plain": [
       "1"
      ]
     },
     "execution_count": 34,
     "metadata": {},
     "output_type": "execute_result"
    }
   ],
   "source": [
    "# степень свободы\n",
    "df = (ab_data.shape[0] - 1) * (ab_data.shape[1] - 1)\n",
    "df"
   ]
  },
  {
   "cell_type": "code",
   "execution_count": 37,
   "metadata": {},
   "outputs": [
    {
     "data": {
      "text/plain": [
       "0.01615503207374036"
      ]
     },
     "execution_count": 37,
     "metadata": {},
     "output_type": "execute_result"
    }
   ],
   "source": [
    "# Для расчета p_value используем кумулятивное распределение хи-квадрат.\n",
    "# Ищем вероятность получения значения статистики или значения выше этой статистики при заданой df.\n",
    "p_value = 1 - st.chi2.cdf(chi_squared_statistic, df)\n",
    "p_value"
   ]
  },
  {
   "cell_type": "code",
   "execution_count": 39,
   "metadata": {},
   "outputs": [
    {
     "name": "stdout",
     "output_type": "stream",
     "text": [
      "Отвергаем нулевую гипотезу, p-value:0.01615503207374036\n"
     ]
    }
   ],
   "source": [
    "if p_value < 0.05:\n",
    "    print('Отвергаем нулевую гипотезу, p-value:{}'.format(p_value))\n",
    "else:\n",
    "    print('Не можем отвергнуть нулевую гипотезу, p-value:{}'.format(p_value))"
   ]
  },
  {
   "cell_type": "markdown",
   "metadata": {},
   "source": [
    "#### Проверка с помощью scipy"
   ]
  },
  {
   "cell_type": "code",
   "execution_count": 45,
   "metadata": {},
   "outputs": [
    {
     "data": {
      "text/plain": [
       "0.01615503207374036"
      ]
     },
     "execution_count": 45,
     "metadata": {},
     "output_type": "execute_result"
    }
   ],
   "source": [
    "chi2, p, dof, ex = st.chi2_contingency(ab_data, correction=False)\n",
    "p"
   ]
  }
 ],
 "metadata": {
  "kernelspec": {
   "display_name": "Python 3",
   "language": "python",
   "name": "python3"
  },
  "language_info": {
   "codemirror_mode": {
    "name": "ipython",
    "version": 3
   },
   "file_extension": ".py",
   "mimetype": "text/x-python",
   "name": "python",
   "nbconvert_exporter": "python",
   "pygments_lexer": "ipython3",
   "version": "3.7.3"
  }
 },
 "nbformat": 4,
 "nbformat_minor": 2
}
