{
 "cells": [
  {
   "cell_type": "markdown",
   "metadata": {},
   "source": [
    "## Z тест для пропорций"
   ]
  },
  {
   "cell_type": "markdown",
   "metadata": {},
   "source": [
    "В этом ноутбуке мы посмотрим, как тестировать гипотезы относительно пропорций."
   ]
  },
  {
   "cell_type": "code",
   "execution_count": 1,
   "metadata": {},
   "outputs": [],
   "source": [
    "import numpy as np\n",
    "import pandas as pd\n",
    "import matplotlib.pyplot as plt\n",
    "import seaborn as sns\n",
    "from scipy import stats as st"
   ]
  },
  {
   "cell_type": "markdown",
   "metadata": {},
   "source": [
    "Допустим, мы интернет магазин и проводим классический АБ тест. В тестовой группе пользователи совершали покупки с помощью обновленной формы заказа, в контрольной группе старая форма.\n",
    "\n",
    "Мы проверяем гипотезы:\n",
    "\n",
    "H0: Конверсия в тестовой группе равна конверсии в контрольной группе\n",
    "\n",
    "H1: Конверсия в тестовой группе не равна конверсии в контрольной группе"
   ]
  },
  {
   "cell_type": "code",
   "execution_count": 2,
   "metadata": {},
   "outputs": [],
   "source": [
    "# Сгенерируем данные\n",
    "# Сколько было пользователей\n",
    "users_test, users_control = 10000, 10000\n",
    "# Количество попыток\n",
    "n = 1\n",
    "# Вероятность покупки. Пусть новая форма действительно увеличивает конверсию.\n",
    "p_test, p_control = 0.07, 0.055\n",
    "\n",
    "np.random.seed(10)\n",
    "test = np.random.binomial(n, p_test, size=users_test)\n",
    "control = np.random.binomial(n, p_control, size=users_control)"
   ]
  },
  {
   "cell_type": "code",
   "execution_count": 3,
   "metadata": {},
   "outputs": [
    {
     "name": "stdout",
     "output_type": "stream",
     "text": [
      "0.0676 0.0563\n"
     ]
    }
   ],
   "source": [
    "# Проверим получившуюся конверсию\n",
    "cr_test = np.mean(test)\n",
    "cr_control = np.mean(control)\n",
    "print(cr_test, cr_control)"
   ]
  },
  {
   "cell_type": "code",
   "execution_count": 4,
   "metadata": {},
   "outputs": [],
   "source": [
    "# Напишем функцию для двувыборочного z теста пропорций\n",
    "def two_sample_z_test_for_proportions(data1, data2, alpha=0.05):\n",
    "    p1, p2 = np.mean(data1), np.mean(data2)\n",
    "    n1, n2 = len(data1), len(data2)\n",
    "    var1, var2 = p1 * (1-p1) / n1, p2 * (1-p2) / n2 # дисперсия\n",
    "    sed = np.sqrt(var1 + var2) #стандартная ошибка распределения разницы пропорций\n",
    "    z_score = (p1-p2) / sed\n",
    "    p_value = (1 - st.norm.cdf(np.abs(z_score))) * 2\n",
    "    answer = 'reject H0' if p_value < alpha else 'Do not reject H0'\n",
    "    return (answer, p_value)"
   ]
  },
  {
   "cell_type": "code",
   "execution_count": 5,
   "metadata": {},
   "outputs": [
    {
     "data": {
      "text/plain": [
       "('reject H0', 0.0009147913768559057)"
      ]
     },
     "execution_count": 5,
     "metadata": {},
     "output_type": "execute_result"
    }
   ],
   "source": [
    "two_sample_z_test_for_proportions(control, test)"
   ]
  }
 ],
 "metadata": {
  "kernelspec": {
   "display_name": "Python 3",
   "language": "python",
   "name": "python3"
  },
  "language_info": {
   "codemirror_mode": {
    "name": "ipython",
    "version": 3
   },
   "file_extension": ".py",
   "mimetype": "text/x-python",
   "name": "python",
   "nbconvert_exporter": "python",
   "pygments_lexer": "ipython3",
   "version": "3.7.3"
  }
 },
 "nbformat": 4,
 "nbformat_minor": 2
}
