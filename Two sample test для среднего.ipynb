{
 "cells": [
  {
   "cell_type": "markdown",
   "metadata": {},
   "source": [
    "## Two sample test для среднего"
   ]
  },
  {
   "cell_type": "markdown",
   "metadata": {},
   "source": [
    "С помощью двухвыборочного теста для среднего мы можем узнать, есть ли значимая разница средних для двух выборок. \n",
    "\n",
    "Проверяем нулевую гипотезу: разница средних двух выборок равна нулю (т.е. они не отличаются). Для этого: \n",
    "1. извлекаем две выборки\n",
    "2. считаем их среднее\n",
    "3. считаем разницу средних\n",
    "4. считаем вероятность получения разницы средних из пункта 3, предполагая, что нулевая гипотеза верна. Т.е. считаем p-value.\n",
    "5. если p-value меньше некоторого уровня значимости alpha (который мы задали заранее), то отвергаем нулевую гипотезу"
   ]
  },
  {
   "cell_type": "code",
   "execution_count": 1,
   "metadata": {},
   "outputs": [],
   "source": [
    "import numpy as np\n",
    "import pandas as pd\n",
    "import matplotlib.pyplot as plt\n",
    "import seaborn as sns\n",
    "from scipy import stats as st"
   ]
  },
  {
   "cell_type": "markdown",
   "metadata": {},
   "source": [
    "Допустим, мы интернет-магазин и мы хотим узнать, как работает наша новая система рекомендаций в письмах. \n",
    "Для этого, мы отправили письма с рекомендациями тестовой группе. И также отправили письма без рекомендаций контрольной группе. Выборки не пересекаются, т.е. они независимы.\n",
    "\n",
    "Проверять будем метрику среднее количество товаров в корзине."
   ]
  },
  {
   "cell_type": "code",
   "execution_count": 2,
   "metadata": {},
   "outputs": [],
   "source": [
    "# Сгенерируем две незавимые выборки. И пусть рекомендации правда работают, но аналитик пока этого не знает.\n",
    "control_mean = 2\n",
    "test_mean = 2.15\n",
    "control_std = 1\n",
    "test_std = 1.3\n",
    "n_control = 1000\n",
    "n_test = 1000\n",
    "\n",
    "np.random.seed(100)\n",
    "control = np.random.normal(control_mean, control_std, n_control)\n",
    "test = np.random.normal(test_mean, test_std, n_test)"
   ]
  },
  {
   "cell_type": "markdown",
   "metadata": {},
   "source": [
    "Определимся с гипотезой\n",
    "\n",
    "H0: Рекомендации никак не влияют на среднее количество товаров в корзине. Разница средних равна нулю.\n",
    "\n",
    "H1: Разница средних не равна нулю.\n",
    "\n",
    "Уровень значимости alpha = 5%"
   ]
  },
  {
   "cell_type": "code",
   "execution_count": 3,
   "metadata": {},
   "outputs": [],
   "source": [
    "# Посчитаем среднее выборок, стандартное отклонение и размер\n",
    "mean1, mean2 = np.mean(control), np.mean(test)\n",
    "std1, std2 = np.std(control), np.std(test)\n",
    "n1, n2 = len(control), len(test)"
   ]
  },
  {
   "cell_type": "code",
   "execution_count": 4,
   "metadata": {},
   "outputs": [],
   "source": [
    "# Посчитаем стандартную ошибку (стандартное отклонение выборочного среднего)\n",
    "se1, se2 = std1/np.sqrt(n1), std2/np.sqrt(n2)"
   ]
  },
  {
   "cell_type": "code",
   "execution_count": 5,
   "metadata": {},
   "outputs": [],
   "source": [
    "# Стандартное отклонение разницы средних\n",
    "sed = np.sqrt(se1**2 + se2**2)"
   ]
  },
  {
   "cell_type": "code",
   "execution_count": 6,
   "metadata": {},
   "outputs": [
    {
     "name": "stdout",
     "output_type": "stream",
     "text": [
      "-3.3653372141274898\n"
     ]
    }
   ],
   "source": [
    "# Стандартизируем разницу средних\n",
    "t_score = (mean1 - mean2) / sed\n",
    "print(t_score)"
   ]
  },
  {
   "cell_type": "code",
   "execution_count": 7,
   "metadata": {},
   "outputs": [],
   "source": [
    "# степень свободы для расчетов p-value\n",
    "df = n_test + n_control - 2"
   ]
  },
  {
   "cell_type": "code",
   "execution_count": 8,
   "metadata": {},
   "outputs": [
    {
     "name": "stdout",
     "output_type": "stream",
     "text": [
      "0.0007789664051371936\n"
     ]
    }
   ],
   "source": [
    "p_value = (1 - st.t.cdf(np.abs(t_score), df)) * 2\n",
    "print(p_value)"
   ]
  },
  {
   "cell_type": "code",
   "execution_count": 9,
   "metadata": {},
   "outputs": [
    {
     "name": "stdout",
     "output_type": "stream",
     "text": [
      "0.0007789664051371936 reject H0\n"
     ]
    }
   ],
   "source": [
    "if p_value < 0.05:\n",
    "    print(p_value, 'reject H0')\n",
    "else:\n",
    "    print(p_value, 'Do not reject H0')"
   ]
  },
  {
   "cell_type": "markdown",
   "metadata": {},
   "source": [
    "### Провека с помощью пакета scipy.stats"
   ]
  },
  {
   "cell_type": "code",
   "execution_count": 10,
   "metadata": {},
   "outputs": [
    {
     "data": {
      "text/plain": [
       "Ttest_indResult(statistic=-3.3636541246428093, pvalue=0.0007837048253564439)"
      ]
     },
     "execution_count": 10,
     "metadata": {},
     "output_type": "execute_result"
    }
   ],
   "source": [
    "st.ttest_ind(control,test)"
   ]
  },
  {
   "cell_type": "markdown",
   "metadata": {},
   "source": [
    "## Paired T-test"
   ]
  },
  {
   "cell_type": "markdown",
   "metadata": {},
   "source": [
    "Данный тест нужен, чтобы обнаружить значимую разницу в связанных воборках. \n",
    "Например, мы предложили скидку клиентам и нужно посмотреть, есть ли значимая разница в среднем чеке до и псоле скидки."
   ]
  },
  {
   "cell_type": "code",
   "execution_count": 11,
   "metadata": {},
   "outputs": [],
   "source": [
    "# Сгенерируем две зависые выборки.\n",
    "control_mean = 100\n",
    "control_std = 20\n",
    "n_control = 200\n",
    "\n",
    "np.random.seed(100)\n",
    "control = np.random.normal(control_mean, control_std, n_control)\n",
    "\n",
    "# Допустим скидка действительно подействовала и средний чек увеличился (но мы пока об этом не знаем).\n",
    "test = np.random.normal(control_mean, control_std, n_control) + 1"
   ]
  },
  {
   "cell_type": "code",
   "execution_count": 12,
   "metadata": {},
   "outputs": [
    {
     "data": {
      "text/plain": [
       "Ttest_relResult(statistic=-2.141713461871372, pvalue=0.033432123641533425)"
      ]
     },
     "execution_count": 12,
     "metadata": {},
     "output_type": "execute_result"
    }
   ],
   "source": [
    "st.ttest_rel(control, test)"
   ]
  }
 ],
 "metadata": {
  "kernelspec": {
   "display_name": "Python 3",
   "language": "python",
   "name": "python3"
  },
  "language_info": {
   "codemirror_mode": {
    "name": "ipython",
    "version": 3
   },
   "file_extension": ".py",
   "mimetype": "text/x-python",
   "name": "python",
   "nbconvert_exporter": "python",
   "pygments_lexer": "ipython3",
   "version": "3.7.3"
  }
 },
 "nbformat": 4,
 "nbformat_minor": 2
}
