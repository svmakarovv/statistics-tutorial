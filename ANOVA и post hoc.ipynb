{
 "cells": [
  {
   "cell_type": "markdown",
   "metadata": {},
   "source": [
    "## Дисперсионный анализ или ANOVA"
   ]
  },
  {
   "cell_type": "markdown",
   "metadata": {},
   "source": [
    "Дисперсионный анализ позволяет сравнить среднее значение множества выборок, а не только двух, как в t тесте."
   ]
  },
  {
   "cell_type": "code",
   "execution_count": 144,
   "metadata": {},
   "outputs": [],
   "source": [
    "import numpy as np\n",
    "import pandas as pd\n",
    "from scipy import stats as st\n",
    "import matplotlib.pyplot as plt\n",
    "from itertools import combinations"
   ]
  },
  {
   "cell_type": "markdown",
   "metadata": {},
   "source": [
    "Допустим, мы протестировали три страницы сайта и нужно понять, есть ли статистически значимая разница между средним временем на сайте."
   ]
  },
  {
   "cell_type": "markdown",
   "metadata": {},
   "source": [
    "H0: нулевая гипотеза будет о том, что среднее время на сайте не различимо по трем страницам. Замечу, что мы делаем предположение о популяции, а не о выборках.\n",
    "    \n",
    "H1: значимая разница есть. Не обязательно, если все группы будут различаться, для отклонения нулевой гипотезы нам достаточно одного стат значимого различия."
   ]
  },
  {
   "cell_type": "code",
   "execution_count": 118,
   "metadata": {},
   "outputs": [],
   "source": [
    "# Сгенерируем данные\n",
    "a = np.random.normal(63, 12, 1000)\n",
    "b = np.random.normal(62, 12.9, 1000)\n",
    "c = np.random.normal(62.5, 12.2, 1000)"
   ]
  },
  {
   "cell_type": "code",
   "execution_count": 119,
   "metadata": {},
   "outputs": [],
   "source": [
    "data = np.array([a, b, c]).T\n",
    "data = pd.DataFrame(data, columns = ['a','b','c'])"
   ]
  },
  {
   "cell_type": "code",
   "execution_count": 120,
   "metadata": {},
   "outputs": [
    {
     "data": {
      "text/html": [
       "<div>\n",
       "<style scoped>\n",
       "    .dataframe tbody tr th:only-of-type {\n",
       "        vertical-align: middle;\n",
       "    }\n",
       "\n",
       "    .dataframe tbody tr th {\n",
       "        vertical-align: top;\n",
       "    }\n",
       "\n",
       "    .dataframe thead th {\n",
       "        text-align: right;\n",
       "    }\n",
       "</style>\n",
       "<table border=\"1\" class=\"dataframe\">\n",
       "  <thead>\n",
       "    <tr style=\"text-align: right;\">\n",
       "      <th></th>\n",
       "      <th>a</th>\n",
       "      <th>b</th>\n",
       "      <th>c</th>\n",
       "    </tr>\n",
       "  </thead>\n",
       "  <tbody>\n",
       "    <tr>\n",
       "      <th>0</th>\n",
       "      <td>35.447166</td>\n",
       "      <td>58.657856</td>\n",
       "      <td>68.666520</td>\n",
       "    </tr>\n",
       "    <tr>\n",
       "      <th>1</th>\n",
       "      <td>34.561590</td>\n",
       "      <td>85.161060</td>\n",
       "      <td>76.534961</td>\n",
       "    </tr>\n",
       "    <tr>\n",
       "      <th>2</th>\n",
       "      <td>59.688908</td>\n",
       "      <td>40.746421</td>\n",
       "      <td>57.494588</td>\n",
       "    </tr>\n",
       "    <tr>\n",
       "      <th>3</th>\n",
       "      <td>67.229408</td>\n",
       "      <td>67.331600</td>\n",
       "      <td>55.242355</td>\n",
       "    </tr>\n",
       "    <tr>\n",
       "      <th>4</th>\n",
       "      <td>70.538700</td>\n",
       "      <td>62.778964</td>\n",
       "      <td>65.955983</td>\n",
       "    </tr>\n",
       "  </tbody>\n",
       "</table>\n",
       "</div>"
      ],
      "text/plain": [
       "           a          b          c\n",
       "0  35.447166  58.657856  68.666520\n",
       "1  34.561590  85.161060  76.534961\n",
       "2  59.688908  40.746421  57.494588\n",
       "3  67.229408  67.331600  55.242355\n",
       "4  70.538700  62.778964  65.955983"
      ]
     },
     "execution_count": 120,
     "metadata": {},
     "output_type": "execute_result"
    }
   ],
   "source": [
    "data.head()"
   ]
  },
  {
   "cell_type": "code",
   "execution_count": 129,
   "metadata": {},
   "outputs": [
    {
     "data": {
      "text/plain": [
       "<matplotlib.axes._subplots.AxesSubplot at 0x1eef3782ac8>"
      ]
     },
     "execution_count": 129,
     "metadata": {},
     "output_type": "execute_result"
    },
    {
     "data": {
      "image/png": "[encoded data removed]",
      "text/plain": [
       "<Figure size 432x288 with 1 Axes>"
      ]
     },
     "metadata": {
      "needs_background": "light"
     },
     "output_type": "display_data"
    }
   ],
   "source": [
    "data.boxplot(showmeans = True)"
   ]
  },
  {
   "cell_type": "code",
   "execution_count": 121,
   "metadata": {},
   "outputs": [],
   "source": [
    "# Напишем функцию для ANOVA\n",
    "def anova(data):\n",
    "    #Среднее по всему датасету\n",
    "    grand_mean = np.mean(data.values)\n",
    "    \n",
    "    #Среднее по группам\n",
    "    means_of_groups = np.mean(data, axis = 0)\n",
    "    \n",
    "    # Сохранияем количество строк и столбцов\n",
    "    columns = data.shape[1]\n",
    "    rows = data.shape[0]\n",
    "    \n",
    "    #Отклонения в пределах группы\n",
    "    ssw = ((data - means_of_groups) ** 2).sum().sum()\n",
    "    ssw_df = (rows - 1) * columns\n",
    "    \n",
    "    #Отклонения между группами\n",
    "    ssb = (((means_of_groups - grand_mean) ** 2) * rows).sum()\n",
    "    ssb_df = columns - 1\n",
    "    \n",
    "    # Считаем f статистику и p-value\n",
    "    f_statistic = (ssb / ssb_df) / (ssw / ssw_df)\n",
    "    p_value = 1 - st.f.cdf(f_statistic, ssb_df, ssw_df)\n",
    "    \n",
    "    return f_statistic, p_value "
   ]
  },
  {
   "cell_type": "code",
   "execution_count": 122,
   "metadata": {},
   "outputs": [
    {
     "data": {
      "text/plain": [
       "(4.364713262172874, 0.012799246443552459)"
      ]
     },
     "execution_count": 122,
     "metadata": {},
     "output_type": "execute_result"
    }
   ],
   "source": [
    "anova(data)"
   ]
  },
  {
   "cell_type": "code",
   "execution_count": 123,
   "metadata": {},
   "outputs": [
    {
     "data": {
      "text/plain": [
       "F_onewayResult(statistic=4.364713262173519, pvalue=0.012799246443542096)"
      ]
     },
     "execution_count": 123,
     "metadata": {},
     "output_type": "execute_result"
    }
   ],
   "source": [
    "# Проверка с помощью scipy\n",
    "st.f_oneway(a, b, c)"
   ]
  },
  {
   "cell_type": "code",
   "execution_count": 130,
   "metadata": {},
   "outputs": [
    {
     "data": {
      "text/plain": [
       "KruskalResult(statistic=7.694906305896438, pvalue=0.02133400174577467)"
      ]
     },
     "execution_count": 130,
     "metadata": {},
     "output_type": "execute_result"
    }
   ],
   "source": [
    "# Проверка с помощью непараметрического аналога kruskal-wallis. \n",
    "# Но тут сравниваются медианы: https://docs.scipy.org/doc/scipy/reference/generated/scipy.stats.kruskal.html\n",
    "st.kruskal(a, b, c)"
   ]
  },
  {
   "cell_type": "markdown",
   "metadata": {},
   "source": [
    "## Post hoc анализ"
   ]
  },
  {
   "cell_type": "markdown",
   "metadata": {},
   "source": [
    "С помощью ANOVA мы определили, что есть статистическая разница между группами, но как понять в какой группе есть отличия? \n",
    "Для этого существует Post-hoc анализ"
   ]
  },
  {
   "cell_type": "markdown",
   "metadata": {},
   "source": [
    "В простейшом варианте мы используем парные t тесты, но с поправкой на множественное сравнение.\n",
    "\n",
    "Откуда берется проблема множественных сравнений? Когда мы проводим несколько тестов на одних и тех же данных, то вероятность получить ложные результаты тестов возрастает. При одиночном сравнении, вероятность ошибки первого рода обычно равна 5-ти процентам. При множественном сравнении групповая ошибка будет равна:\n",
    "\n",
    "P(вероятность хотя бы одной ошибки 1 рода) = 1 - P(веротность не совершить ошибку 1 рода)^c\n",
    "\n",
    "где \n",
    "* с - число проведенных тестов\n",
    "* P(веротность не совершить ошибку 1 рода) при alpha = 0.05 будет равным 0.95. \n",
    "\n",
    "Т.е.  мы считаем вероятность не совершить ошибку первого рода для всех сравнений. Для пары один и для пары два и так далее. А затем вычитаем полученное значение из единицы.\n",
    "\n",
    "Для трех тестов при alpha = 0.05 , групповая ошибка будет такой:\n",
    "\n",
    "P = 1 - (0.95)**3 = 0.14"
   ]
  },
  {
   "cell_type": "markdown",
   "metadata": {},
   "source": [
    "Самая простая поправка на множетвенное сранение это поправка Бонферрони. Метод поправки Бонферрони утверждает, что для уменьшения ложноположительных результатов необходимо отклонить те гипотезы, для которых p-value < alpha/с, где с - число проведенных тестов.\n",
    "\n",
    "Метод плох тем, что уменьшает мощность теста, т.е. повышается вероятность совершить ошибку второго рода."
   ]
  },
  {
   "cell_type": "code",
   "execution_count": 136,
   "metadata": {},
   "outputs": [
    {
     "data": {
      "text/plain": [
       "[('a', 'b'), ('a', 'c'), ('b', 'c')]"
      ]
     },
     "execution_count": 136,
     "metadata": {},
     "output_type": "execute_result"
    }
   ],
   "source": [
    "# Создаем комбинации для парных тестов\n",
    "groups_combinations = list(combinations(data.columns,2))\n",
    "groups_combinations"
   ]
  },
  {
   "cell_type": "code",
   "execution_count": 156,
   "metadata": {},
   "outputs": [
    {
     "data": {
      "text/plain": [
       "0.016666666666666666"
      ]
     },
     "execution_count": 156,
     "metadata": {},
     "output_type": "execute_result"
    }
   ],
   "source": [
    "# Применяем поправку Бонферрони\n",
    "alpha = 0.05\n",
    "bonferroni_alpha = alpha / len(groups_combinations)\n",
    "bonferroni_alpha"
   ]
  },
  {
   "cell_type": "code",
   "execution_count": 150,
   "metadata": {},
   "outputs": [
    {
     "name": "stdout",
     "output_type": "stream",
     "text": [
      "Для пары: a и b отвергаем нулевую гипотезу, p-value равен 0.006598959819563271\n",
      "Для пары: a и c не можем отвергнуть нулевую гипотезу, p-value равен 0.018659901574186104\n",
      "Для пары: b и c не можем отвергнуть нулевую гипотезу, p-value равен 0.6806223180621213\n"
     ]
    }
   ],
   "source": [
    "for group1, group2 in groups_combinations:\n",
    "    test_result = st.ttest_ind(data[group1],data[group2])\n",
    "    p_value = test_result[1]\n",
    "    if p_value < bonferroni_alpha:\n",
    "        print('Для пары: {} и {} отвергаем нулевую гипотезу, p-value равен {}'.format(group1, group2, p_value))\n",
    "    else:\n",
    "        print('Для пары: {} и {} не можем отвергнуть нулевую гипотезу, p-value равен {}'.format(group1, group2, p_value))"
   ]
  },
  {
   "cell_type": "markdown",
   "metadata": {},
   "source": [
    "### Полезные ссылки:\n",
    "* http://www.sevin.ru/dissertations/aspirantura/material/lecture-4-23.01.pdf\n",
    "* https://habr.com/ru/post/304528/\n",
    "* https://ru.wikipedia.org/wiki/Поправка_на_множественную_проверку_гипотез\n",
    "* https://www.youtube.com/watch?v=pscJPuCwUG0"
   ]
  }
 ],
 "metadata": {
  "kernelspec": {
   "display_name": "Python 3",
   "language": "python",
   "name": "python3"
  },
  "language_info": {
   "codemirror_mode": {
    "name": "ipython",
    "version": 3
   },
   "file_extension": ".py",
   "mimetype": "text/x-python",
   "name": "python",
   "nbconvert_exporter": "python",
   "pygments_lexer": "ipython3",
   "version": "3.7.3"
  }
 },
 "nbformat": 4,
 "nbformat_minor": 2
}
